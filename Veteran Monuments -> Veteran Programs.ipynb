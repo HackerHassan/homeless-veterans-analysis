{
 "cells": [
  {
   "cell_type": "markdown",
   "metadata": {},
   "source": [
    "# Veteran Monuments -> Veteran Programs\n",
    "## We fund the dead and Ignore the living\n",
    "**Question:** Just a random question. Have we ever asked veterans before they passed away if they want to be remembered in the form of a stone or piece of metal with a clump of letters together that resemble their name? Or would they choose to allocate all of that money that would be directed towards them in a better way? Just a question as to who is in charge of these expensive projects and why is it that these projects are taking place so frequently yet we are ignoring another entirely urgent issue. What is the rush in putting up veteran statues when we have our alive veterans suffering on the streets<br> <br>\n",
    "**Absurdity:** `We see so many parks in the United States with expensive marble monuments to honor the veterans who have passed, yet we ignore the veterans who are sleeping in the parks nextdoor on the floor due to homelessness. It sad to see how veterans are homeless and have to wait in long lines to get the help they need when we are always more than willing to build a fancy modern monument for their peers who have passed. Why is it that we are more willing to remember the dead while neglecting the living? Why is it that we are so used to putting up stone monuments with names of people who we miss when we miss the whole point of remembering veterans. What about the veterans on the street who die of homelessness because they have nowhere to go after the war? Should we leave it up to the city officials to make another monument to honor the veterans who died of homelessness? Or should we make a shelter in the location of that house and honor the veterans in that way. I can easily say that any veteran who passed away would rather have his comrade in a house rather than having their name on a stone that they themselves never get to see. It really hit me that things were backwards when I went to a park called \"veteran's park\" and saw homeless veterans wandering.`\n",
    "<br>\n",
    "<br>\n",
    "One must think that when we are aiming to do something, we are not doing something else. This is when action in one direction leads to neglect in another dimension. If we are the government that takes billions of dollars in taxes annually than your action better be the most optimal and should not be neglecting things that are more important. For us to all reach a consensus on what is important. What is important we should start by discussing what is the fundamental important parts to life in the U.S.A. In other words what does the US stand for. "
   ]
  },
  {
   "cell_type": "code",
   "execution_count": null,
   "metadata": {},
   "outputs": [],
   "source": []
  },
  {
   "cell_type": "markdown",
   "metadata": {},
   "source": [
    "## Analysis:\n",
    "Money spent and # of parks. Which neighborhoods they are in. Are they in rich neighborhoods? Why did the money not go towards a homeless shelter/program to help people off the streets.\n",
    "<br>\n",
    "3 Values:\n",
    "- `Total Count of homeless veterans`\n",
    "- `% of homeless veterans out of veterans (homeless_veterans/total_veterans)`\n",
    "- `% of homeless veterans out of total homeless ppl (homeless_veterans/total_homeless_ppl)`"
   ]
  },
  {
   "cell_type": "markdown",
   "metadata": {},
   "source": [
    "------------"
   ]
  },
  {
   "cell_type": "markdown",
   "metadata": {},
   "source": [
    "## Exploring Data"
   ]
  },
  {
   "cell_type": "code",
   "execution_count": 4,
   "metadata": {},
   "outputs": [],
   "source": [
    "# !pip install cpi"
   ]
  },
  {
   "cell_type": "code",
   "execution_count": 66,
   "metadata": {},
   "outputs": [],
   "source": [
    "# imports\n",
    "import pandas as pd\n",
    "import numpy as np\n",
    "import cpi\n",
    "# cpi.update()"
   ]
  },
  {
   "cell_type": "markdown",
   "metadata": {},
   "source": [
    "**Data Source:** https://landscapearchitecturemagazine.org/2012/06/20/monumental-prices/#:~:text=Vietnam%20Veterans%20Memorial%20(1982)%3A,in%202012%20dollars%3A%20%2439.9%20million.\n",
    "<br>\n",
    "<br>\n",
    "**Inflation calculated from:** https://www.bls.gov/data/inflation_calculator.htm\n",
    "<br>\n",
    "**Python inflation calc:**\n",
    "https://github.com/datadesk/cpi"
   ]
  },
  {
   "cell_type": "code",
   "execution_count": 21,
   "metadata": {},
   "outputs": [
    {
     "data": {
      "text/plain": [
       "241934748.54420328"
      ]
     },
     "execution_count": 21,
     "metadata": {},
     "output_type": "execute_result"
    }
   ],
   "source": [
    "# sadly 2020 is not available\n",
    "cpi.inflate(182000000, 2004, to=2018)"
   ]
  },
  {
   "cell_type": "code",
   "execution_count": 51,
   "metadata": {},
   "outputs": [],
   "source": [
    "# Data \n",
    "# source: linked above\n",
    "cols = [\"Project\", \"Year Made\", \"Original Cost (M)\", \n",
    "        \"2012 Inflation Adjusted Cost (M)\", \n",
    "        \"Amount of Land (Acres)\", \"2012 Cost per Acre (M)\"]\n",
    "\n",
    "data = [[\"Martin Luther King Jr. Memorial\", 2011, 120, 122.6, 4, 30.65],\n",
    "        [\"National World War II Memorial\", 2004, 182, 221.4, 7.4, 29.9],\n",
    "        [\"Korean War Veterans Memorial\", 1995, 16.5, 24.9, 2.2, 11.3],\n",
    "        [\"Franklin Delano Roosevelt National Memorial\", 1997, 52, 74.5, 7.5, 9.9], \n",
    "        [\"Vietnam Veterans Memorial\", 1982, 8.4, 19.5, 3, 6.5], \n",
    "        [\"Thomas Jefferson Memorial\", 1943, 3, 39.9],\n",
    "        [\"Lincoln Memorial\", 1922, 2.957, 40.5],\n",
    "        [\"Washington Monument\", 1884, 1.18771, 28.4]\n",
    "       ]"
   ]
  },
  {
   "cell_type": "code",
   "execution_count": 52,
   "metadata": {},
   "outputs": [],
   "source": [
    "us_memorial_df = pd.DataFrame(data, columns = cols)"
   ]
  },
  {
   "cell_type": "code",
   "execution_count": 57,
   "metadata": {},
   "outputs": [
    {
     "data": {
      "text/html": [
       "<div>\n",
       "<style scoped>\n",
       "    .dataframe tbody tr th:only-of-type {\n",
       "        vertical-align: middle;\n",
       "    }\n",
       "\n",
       "    .dataframe tbody tr th {\n",
       "        vertical-align: top;\n",
       "    }\n",
       "\n",
       "    .dataframe thead th {\n",
       "        text-align: right;\n",
       "    }\n",
       "</style>\n",
       "<table border=\"1\" class=\"dataframe\">\n",
       "  <thead>\n",
       "    <tr style=\"text-align: right;\">\n",
       "      <th></th>\n",
       "      <th>Project</th>\n",
       "      <th>Year Made</th>\n",
       "      <th>Original Cost (M)</th>\n",
       "      <th>2012 Inflation Adjusted Cost (M)</th>\n",
       "      <th>Amount of Land (Acres)</th>\n",
       "      <th>2012 Cost per Acre (M)</th>\n",
       "    </tr>\n",
       "  </thead>\n",
       "  <tbody>\n",
       "    <tr>\n",
       "      <th>0</th>\n",
       "      <td>Martin Luther King Jr. Memorial</td>\n",
       "      <td>2011</td>\n",
       "      <td>120.000</td>\n",
       "      <td>122.6</td>\n",
       "      <td>4.0</td>\n",
       "      <td>30.65</td>\n",
       "    </tr>\n",
       "    <tr>\n",
       "      <th>1</th>\n",
       "      <td>National World War II Memorial</td>\n",
       "      <td>2004</td>\n",
       "      <td>182.000</td>\n",
       "      <td>221.4</td>\n",
       "      <td>7.4</td>\n",
       "      <td>29.90</td>\n",
       "    </tr>\n",
       "    <tr>\n",
       "      <th>2</th>\n",
       "      <td>Korean War Veterans Memorial</td>\n",
       "      <td>1995</td>\n",
       "      <td>16.500</td>\n",
       "      <td>24.9</td>\n",
       "      <td>2.2</td>\n",
       "      <td>11.30</td>\n",
       "    </tr>\n",
       "    <tr>\n",
       "      <th>3</th>\n",
       "      <td>Franklin Delano Roosevelt National Memorial</td>\n",
       "      <td>1997</td>\n",
       "      <td>52.000</td>\n",
       "      <td>74.5</td>\n",
       "      <td>7.5</td>\n",
       "      <td>9.90</td>\n",
       "    </tr>\n",
       "    <tr>\n",
       "      <th>4</th>\n",
       "      <td>Vietnam Veterans Memorial</td>\n",
       "      <td>1982</td>\n",
       "      <td>8.400</td>\n",
       "      <td>19.5</td>\n",
       "      <td>3.0</td>\n",
       "      <td>6.50</td>\n",
       "    </tr>\n",
       "    <tr>\n",
       "      <th>5</th>\n",
       "      <td>Thomas Jefferson Memorial</td>\n",
       "      <td>1943</td>\n",
       "      <td>3.000</td>\n",
       "      <td>39.9</td>\n",
       "      <td>NaN</td>\n",
       "      <td>NaN</td>\n",
       "    </tr>\n",
       "    <tr>\n",
       "      <th>6</th>\n",
       "      <td>Lincoln Memorial</td>\n",
       "      <td>1922</td>\n",
       "      <td>2.957</td>\n",
       "      <td>40.5</td>\n",
       "      <td>NaN</td>\n",
       "      <td>NaN</td>\n",
       "    </tr>\n",
       "  </tbody>\n",
       "</table>\n",
       "</div>"
      ],
      "text/plain": [
       "                                       Project  Year Made  Original Cost (M)  \\\n",
       "0              Martin Luther King Jr. Memorial       2011            120.000   \n",
       "1               National World War II Memorial       2004            182.000   \n",
       "2                 Korean War Veterans Memorial       1995             16.500   \n",
       "3  Franklin Delano Roosevelt National Memorial       1997             52.000   \n",
       "4                    Vietnam Veterans Memorial       1982              8.400   \n",
       "5                    Thomas Jefferson Memorial       1943              3.000   \n",
       "6                             Lincoln Memorial       1922              2.957   \n",
       "\n",
       "   2012 Inflation Adjusted Cost (M)  Amount of Land (Acres)  \\\n",
       "0                             122.6                     4.0   \n",
       "1                             221.4                     7.4   \n",
       "2                              24.9                     2.2   \n",
       "3                              74.5                     7.5   \n",
       "4                              19.5                     3.0   \n",
       "5                              39.9                     NaN   \n",
       "6                              40.5                     NaN   \n",
       "\n",
       "   2012 Cost per Acre (M)  \n",
       "0                   30.65  \n",
       "1                   29.90  \n",
       "2                   11.30  \n",
       "3                    9.90  \n",
       "4                    6.50  \n",
       "5                     NaN  \n",
       "6                     NaN  "
      ]
     },
     "execution_count": 57,
     "metadata": {},
     "output_type": "execute_result"
    }
   ],
   "source": [
    "us_memorial_df"
   ]
  },
  {
   "cell_type": "code",
   "execution_count": 59,
   "metadata": {},
   "outputs": [],
   "source": [
    "adj_price_2018_list = []\n",
    "for price, year in zip(us_memorial_df['Original Cost (M)'][:-1], us_memorial_df['Year Made'][:-1]):\n",
    "    infl_price_18 = cpi.inflate(price, year, to=2018)\n",
    "    adj_price_2018_list.append(infl_price_18)"
   ]
  },
  {
   "cell_type": "code",
   "execution_count": 63,
   "metadata": {},
   "outputs": [],
   "source": [
    "adj_price_2018_list.append(np.NaN)\n",
    "us_memorial_df['2018 Inflation Adjusted Cost (M)'] = adj_price_2018_list"
   ]
  },
  {
   "cell_type": "code",
   "execution_count": 65,
   "metadata": {},
   "outputs": [
    {
     "data": {
      "text/html": [
       "<div>\n",
       "<style scoped>\n",
       "    .dataframe tbody tr th:only-of-type {\n",
       "        vertical-align: middle;\n",
       "    }\n",
       "\n",
       "    .dataframe tbody tr th {\n",
       "        vertical-align: top;\n",
       "    }\n",
       "\n",
       "    .dataframe thead th {\n",
       "        text-align: right;\n",
       "    }\n",
       "</style>\n",
       "<table border=\"1\" class=\"dataframe\">\n",
       "  <thead>\n",
       "    <tr style=\"text-align: right;\">\n",
       "      <th></th>\n",
       "      <th>Project</th>\n",
       "      <th>Year Made</th>\n",
       "      <th>Original Cost (M)</th>\n",
       "      <th>2012 Inflation Adjusted Cost (M)</th>\n",
       "      <th>Amount of Land (Acres)</th>\n",
       "      <th>2012 Cost per Acre (M)</th>\n",
       "      <th>2018 Inflation Adjusted Cost (M)</th>\n",
       "    </tr>\n",
       "  </thead>\n",
       "  <tbody>\n",
       "    <tr>\n",
       "      <th>0</th>\n",
       "      <td>Martin Luther King Jr. Memorial</td>\n",
       "      <td>2011</td>\n",
       "      <td>120.00000</td>\n",
       "      <td>122.6</td>\n",
       "      <td>4.0</td>\n",
       "      <td>30.65</td>\n",
       "      <td>133.960051</td>\n",
       "    </tr>\n",
       "    <tr>\n",
       "      <th>1</th>\n",
       "      <td>National World War II Memorial</td>\n",
       "      <td>2004</td>\n",
       "      <td>182.00000</td>\n",
       "      <td>221.4</td>\n",
       "      <td>7.4</td>\n",
       "      <td>29.90</td>\n",
       "      <td>241.934749</td>\n",
       "    </tr>\n",
       "    <tr>\n",
       "      <th>2</th>\n",
       "      <td>Korean War Veterans Memorial</td>\n",
       "      <td>1995</td>\n",
       "      <td>16.50000</td>\n",
       "      <td>24.9</td>\n",
       "      <td>2.2</td>\n",
       "      <td>11.30</td>\n",
       "      <td>27.186781</td>\n",
       "    </tr>\n",
       "    <tr>\n",
       "      <th>3</th>\n",
       "      <td>Franklin Delano Roosevelt National Memorial</td>\n",
       "      <td>1997</td>\n",
       "      <td>52.00000</td>\n",
       "      <td>74.5</td>\n",
       "      <td>7.5</td>\n",
       "      <td>9.90</td>\n",
       "      <td>81.355539</td>\n",
       "    </tr>\n",
       "    <tr>\n",
       "      <th>4</th>\n",
       "      <td>Vietnam Veterans Memorial</td>\n",
       "      <td>1982</td>\n",
       "      <td>8.40000</td>\n",
       "      <td>19.5</td>\n",
       "      <td>3.0</td>\n",
       "      <td>6.50</td>\n",
       "      <td>21.858019</td>\n",
       "    </tr>\n",
       "    <tr>\n",
       "      <th>5</th>\n",
       "      <td>Thomas Jefferson Memorial</td>\n",
       "      <td>1943</td>\n",
       "      <td>3.00000</td>\n",
       "      <td>39.9</td>\n",
       "      <td>NaN</td>\n",
       "      <td>NaN</td>\n",
       "      <td>43.544566</td>\n",
       "    </tr>\n",
       "    <tr>\n",
       "      <th>6</th>\n",
       "      <td>Lincoln Memorial</td>\n",
       "      <td>1922</td>\n",
       "      <td>2.95700</td>\n",
       "      <td>40.5</td>\n",
       "      <td>NaN</td>\n",
       "      <td>NaN</td>\n",
       "      <td>44.197821</td>\n",
       "    </tr>\n",
       "    <tr>\n",
       "      <th>7</th>\n",
       "      <td>Washington Monument</td>\n",
       "      <td>1884</td>\n",
       "      <td>1.18771</td>\n",
       "      <td>28.4</td>\n",
       "      <td>NaN</td>\n",
       "      <td>NaN</td>\n",
       "      <td>NaN</td>\n",
       "    </tr>\n",
       "  </tbody>\n",
       "</table>\n",
       "</div>"
      ],
      "text/plain": [
       "                                       Project  Year Made  Original Cost (M)  \\\n",
       "0              Martin Luther King Jr. Memorial       2011          120.00000   \n",
       "1               National World War II Memorial       2004          182.00000   \n",
       "2                 Korean War Veterans Memorial       1995           16.50000   \n",
       "3  Franklin Delano Roosevelt National Memorial       1997           52.00000   \n",
       "4                    Vietnam Veterans Memorial       1982            8.40000   \n",
       "5                    Thomas Jefferson Memorial       1943            3.00000   \n",
       "6                             Lincoln Memorial       1922            2.95700   \n",
       "7                          Washington Monument       1884            1.18771   \n",
       "\n",
       "   2012 Inflation Adjusted Cost (M)  Amount of Land (Acres)  \\\n",
       "0                             122.6                     4.0   \n",
       "1                             221.4                     7.4   \n",
       "2                              24.9                     2.2   \n",
       "3                              74.5                     7.5   \n",
       "4                              19.5                     3.0   \n",
       "5                              39.9                     NaN   \n",
       "6                              40.5                     NaN   \n",
       "7                              28.4                     NaN   \n",
       "\n",
       "   2012 Cost per Acre (M)  2018 Inflation Adjusted Cost (M)  \n",
       "0                   30.65                        133.960051  \n",
       "1                   29.90                        241.934749  \n",
       "2                   11.30                         27.186781  \n",
       "3                    9.90                         81.355539  \n",
       "4                    6.50                         21.858019  \n",
       "5                     NaN                         43.544566  \n",
       "6                     NaN                         44.197821  \n",
       "7                     NaN                               NaN  "
      ]
     },
     "execution_count": 65,
     "metadata": {},
     "output_type": "execute_result"
    }
   ],
   "source": [
    "us_memorial_df"
   ]
  },
  {
   "cell_type": "markdown",
   "metadata": {},
   "source": [
    "## Veterans Data\n",
    "About `11%` of the adult homeless population are veterans. Roughly 45% of all homeless veterans are African American or Hispanic, despite only accounting for 10.4% and 3.4% of the U.S. veteran population, respectively. Homeless veterans are younger on average than the total veteran population.\n",
    "<br>\n",
    "<br>\n",
    "**Source:**\n",
    "http://nchv.org/index.php/news/media/background_and_statistics/#:~:text=About%2011%25%20of%20the%20adult,than%20the%20total%20veteran%20population."
   ]
  },
  {
   "cell_type": "code",
   "execution_count": 44,
   "metadata": {},
   "outputs": [
    {
     "name": "stdout",
     "output_type": "stream",
     "text": [
      "Total Homeless in USA: 36414545\n",
      "Homeless Veterans in USA: 40056\n"
     ]
    }
   ],
   "source": [
    "# source: According to the US Department of Housing and Urban Development (HUD)\n",
    "num_homeless_vets_usa = 40056\n",
    "total_homeless_usa = int(100/(.11/num_homeless_vets_usa))\n",
    "print(\"Total Homeless in USA: \" + str(total_homeless_usa))\n",
    "print(\"Homeless Veterans in USA: \" + str(num_homeless_vets_usa))"
   ]
  },
  {
   "cell_type": "code",
   "execution_count": 67,
   "metadata": {},
   "outputs": [
    {
     "data": {
      "text/html": [
       "<div>\n",
       "<style scoped>\n",
       "    .dataframe tbody tr th:only-of-type {\n",
       "        vertical-align: middle;\n",
       "    }\n",
       "\n",
       "    .dataframe tbody tr th {\n",
       "        vertical-align: top;\n",
       "    }\n",
       "\n",
       "    .dataframe thead th {\n",
       "        text-align: right;\n",
       "    }\n",
       "</style>\n",
       "<table border=\"1\" class=\"dataframe\">\n",
       "  <thead>\n",
       "    <tr style=\"text-align: right;\">\n",
       "      <th></th>\n",
       "      <th>Project</th>\n",
       "      <th>Year Made</th>\n",
       "      <th>Original Cost (M)</th>\n",
       "      <th>2012 Inflation Adjusted Cost (M)</th>\n",
       "      <th>Amount of Land (Acres)</th>\n",
       "      <th>2012 Cost per Acre (M)</th>\n",
       "      <th>2018 Inflation Adjusted Cost (M)</th>\n",
       "    </tr>\n",
       "  </thead>\n",
       "  <tbody>\n",
       "    <tr>\n",
       "      <th>0</th>\n",
       "      <td>Martin Luther King Jr. Memorial</td>\n",
       "      <td>2011</td>\n",
       "      <td>120.00000</td>\n",
       "      <td>122.6</td>\n",
       "      <td>4.0</td>\n",
       "      <td>30.65</td>\n",
       "      <td>133.960051</td>\n",
       "    </tr>\n",
       "    <tr>\n",
       "      <th>1</th>\n",
       "      <td>National World War II Memorial</td>\n",
       "      <td>2004</td>\n",
       "      <td>182.00000</td>\n",
       "      <td>221.4</td>\n",
       "      <td>7.4</td>\n",
       "      <td>29.90</td>\n",
       "      <td>241.934749</td>\n",
       "    </tr>\n",
       "    <tr>\n",
       "      <th>2</th>\n",
       "      <td>Korean War Veterans Memorial</td>\n",
       "      <td>1995</td>\n",
       "      <td>16.50000</td>\n",
       "      <td>24.9</td>\n",
       "      <td>2.2</td>\n",
       "      <td>11.30</td>\n",
       "      <td>27.186781</td>\n",
       "    </tr>\n",
       "    <tr>\n",
       "      <th>3</th>\n",
       "      <td>Franklin Delano Roosevelt National Memorial</td>\n",
       "      <td>1997</td>\n",
       "      <td>52.00000</td>\n",
       "      <td>74.5</td>\n",
       "      <td>7.5</td>\n",
       "      <td>9.90</td>\n",
       "      <td>81.355539</td>\n",
       "    </tr>\n",
       "    <tr>\n",
       "      <th>4</th>\n",
       "      <td>Vietnam Veterans Memorial</td>\n",
       "      <td>1982</td>\n",
       "      <td>8.40000</td>\n",
       "      <td>19.5</td>\n",
       "      <td>3.0</td>\n",
       "      <td>6.50</td>\n",
       "      <td>21.858019</td>\n",
       "    </tr>\n",
       "    <tr>\n",
       "      <th>5</th>\n",
       "      <td>Thomas Jefferson Memorial</td>\n",
       "      <td>1943</td>\n",
       "      <td>3.00000</td>\n",
       "      <td>39.9</td>\n",
       "      <td>NaN</td>\n",
       "      <td>NaN</td>\n",
       "      <td>43.544566</td>\n",
       "    </tr>\n",
       "    <tr>\n",
       "      <th>6</th>\n",
       "      <td>Lincoln Memorial</td>\n",
       "      <td>1922</td>\n",
       "      <td>2.95700</td>\n",
       "      <td>40.5</td>\n",
       "      <td>NaN</td>\n",
       "      <td>NaN</td>\n",
       "      <td>44.197821</td>\n",
       "    </tr>\n",
       "    <tr>\n",
       "      <th>7</th>\n",
       "      <td>Washington Monument</td>\n",
       "      <td>1884</td>\n",
       "      <td>1.18771</td>\n",
       "      <td>28.4</td>\n",
       "      <td>NaN</td>\n",
       "      <td>NaN</td>\n",
       "      <td>NaN</td>\n",
       "    </tr>\n",
       "  </tbody>\n",
       "</table>\n",
       "</div>"
      ],
      "text/plain": [
       "                                       Project  Year Made  Original Cost (M)  \\\n",
       "0              Martin Luther King Jr. Memorial       2011          120.00000   \n",
       "1               National World War II Memorial       2004          182.00000   \n",
       "2                 Korean War Veterans Memorial       1995           16.50000   \n",
       "3  Franklin Delano Roosevelt National Memorial       1997           52.00000   \n",
       "4                    Vietnam Veterans Memorial       1982            8.40000   \n",
       "5                    Thomas Jefferson Memorial       1943            3.00000   \n",
       "6                             Lincoln Memorial       1922            2.95700   \n",
       "7                          Washington Monument       1884            1.18771   \n",
       "\n",
       "   2012 Inflation Adjusted Cost (M)  Amount of Land (Acres)  \\\n",
       "0                             122.6                     4.0   \n",
       "1                             221.4                     7.4   \n",
       "2                              24.9                     2.2   \n",
       "3                              74.5                     7.5   \n",
       "4                              19.5                     3.0   \n",
       "5                              39.9                     NaN   \n",
       "6                              40.5                     NaN   \n",
       "7                              28.4                     NaN   \n",
       "\n",
       "   2012 Cost per Acre (M)  2018 Inflation Adjusted Cost (M)  \n",
       "0                   30.65                        133.960051  \n",
       "1                   29.90                        241.934749  \n",
       "2                   11.30                         27.186781  \n",
       "3                    9.90                         81.355539  \n",
       "4                    6.50                         21.858019  \n",
       "5                     NaN                         43.544566  \n",
       "6                     NaN                         44.197821  \n",
       "7                     NaN                               NaN  "
      ]
     },
     "execution_count": 67,
     "metadata": {},
     "output_type": "execute_result"
    }
   ],
   "source": [
    "us_memorial_df"
   ]
  },
  {
   "cell_type": "code",
   "execution_count": 73,
   "metadata": {},
   "outputs": [
    {
     "name": "stdout",
     "output_type": "stream",
     "text": [
      "For 7 memorial projects, the US Gov spent ~594 Million US dollars (2018 inflation)\n"
     ]
    }
   ],
   "source": [
    "sum_7 = int(sum(us_memorial_df[\"2018 Inflation Adjusted Cost (M)\"][:-1]))\n",
    "print(\"For 7 memorial projects, the US Gov spent ~\" + str(sum_7) + \" Million US dollars (2018 inflation)\")"
   ]
  },
  {
   "cell_type": "code",
   "execution_count": 75,
   "metadata": {},
   "outputs": [],
   "source": [
    "import seaborn as sns"
   ]
  },
  {
   "cell_type": "code",
   "execution_count": 78,
   "metadata": {},
   "outputs": [
    {
     "data": {
      "text/plain": [
       "Text(0.5, 0, '$ Spent (Millions)')"
      ]
     },
     "execution_count": 78,
     "metadata": {},
     "output_type": "execute_result"
    },
    {
     "data": {
      "image/png": "[encoded data removed]",
      "text/plain": [
       "<Figure size 432x288 with 1 Axes>"
      ]
     },
     "metadata": {
      "needs_background": "light"
     },
     "output_type": "display_data"
    }
   ],
   "source": [
    "ax = sns.barplot(x='2018 Inflation Adjusted Cost (M)', y='Project', data=us_memorial_df[:-1])\n",
    "ax.set_xlabel('$ Spent (Millions)')"
   ]
  },
  {
   "cell_type": "code",
   "execution_count": null,
   "metadata": {},
   "outputs": [],
   "source": []
  }
 ],
 "metadata": {
  "kernelspec": {
   "display_name": "Python 3",
   "language": "python",
   "name": "python3"
  },
  "language_info": {
   "codemirror_mode": {
    "name": "ipython",
    "version": 3
   },
   "file_extension": ".py",
   "mimetype": "text/x-python",
   "name": "python",
   "nbconvert_exporter": "python",
   "pygments_lexer": "ipython3",
   "version": "3.7.6"
  }
 },
 "nbformat": 4,
 "nbformat_minor": 4
}
